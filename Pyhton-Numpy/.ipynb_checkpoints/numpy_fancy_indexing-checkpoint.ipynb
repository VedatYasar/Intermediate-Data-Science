{
 "cells": [
  {
   "cell_type": "code",
   "execution_count": 1,
   "id": "603b2c0d",
   "metadata": {},
   "outputs": [],
   "source": [
    "import numpy as np"
   ]
  },
  {
   "cell_type": "markdown",
   "id": "11785e73",
   "metadata": {},
   "source": [
    "# Fancy Index\n",
    "\n",
    "\n",
    "* With using Fancy index, we can say that it only return spesific elements in spesific indexes.\n"
   ]
  },
  {
   "cell_type": "code",
   "execution_count": 2,
   "id": "78512dff",
   "metadata": {},
   "outputs": [],
   "source": [
    "x = np.arange(1,15)"
   ]
  },
  {
   "cell_type": "code",
   "execution_count": 4,
   "id": "9a20e60e",
   "metadata": {},
   "outputs": [
    {
     "data": {
      "text/plain": [
       "array([ 1,  2,  3,  4,  5,  6,  7,  8,  9, 10, 11, 12, 13, 14])"
      ]
     },
     "execution_count": 4,
     "metadata": {},
     "output_type": "execute_result"
    }
   ],
   "source": [
    "x"
   ]
  },
  {
   "cell_type": "code",
   "execution_count": 5,
   "id": "27234bf4",
   "metadata": {},
   "outputs": [],
   "source": [
    "idxs = [4,5,7,11]"
   ]
  },
  {
   "cell_type": "code",
   "execution_count": 6,
   "id": "d2c2a3cd",
   "metadata": {},
   "outputs": [
    {
     "data": {
      "text/plain": [
       "array([ 5,  6,  8, 12])"
      ]
     },
     "execution_count": 6,
     "metadata": {},
     "output_type": "execute_result"
    }
   ],
   "source": [
    "# Returns 4th, 5th, 7th and 11th index values\n",
    "x[idxs]"
   ]
  },
  {
   "cell_type": "code",
   "execution_count": 9,
   "id": "041e53ae",
   "metadata": {},
   "outputs": [],
   "source": [
    "# values come in the order in which they are called\n",
    "idxs = [4,5,7,1]"
   ]
  },
  {
   "cell_type": "code",
   "execution_count": 10,
   "id": "1e354519",
   "metadata": {},
   "outputs": [
    {
     "data": {
      "text/plain": [
       "array([5, 6, 8, 2])"
      ]
     },
     "execution_count": 10,
     "metadata": {},
     "output_type": "execute_result"
    }
   ],
   "source": [
    "x[idxs]"
   ]
  },
  {
   "cell_type": "code",
   "execution_count": 11,
   "id": "63d9c326",
   "metadata": {},
   "outputs": [],
   "source": [
    "a = np.arange(12).reshape(3,4)"
   ]
  },
  {
   "cell_type": "code",
   "execution_count": 12,
   "id": "2358e861",
   "metadata": {},
   "outputs": [
    {
     "data": {
      "text/plain": [
       "array([[ 0,  1,  2,  3],\n",
       "       [ 4,  5,  6,  7],\n",
       "       [ 8,  9, 10, 11]])"
      ]
     },
     "execution_count": 12,
     "metadata": {},
     "output_type": "execute_result"
    }
   ],
   "source": [
    "a"
   ]
  },
  {
   "cell_type": "code",
   "execution_count": 13,
   "id": "26823859",
   "metadata": {},
   "outputs": [
    {
     "data": {
      "text/plain": [
       "array([1, 5])"
      ]
     },
     "execution_count": 13,
     "metadata": {},
     "output_type": "execute_result"
    }
   ],
   "source": [
    "a[0:2,1]"
   ]
  },
  {
   "cell_type": "code",
   "execution_count": 14,
   "id": "4e819a3d",
   "metadata": {},
   "outputs": [
    {
     "data": {
      "text/plain": [
       "(2,)"
      ]
     },
     "execution_count": 14,
     "metadata": {},
     "output_type": "execute_result"
    }
   ],
   "source": [
    "a[0:2,1].shape"
   ]
  },
  {
   "cell_type": "code",
   "execution_count": 21,
   "id": "f5b3811c",
   "metadata": {},
   "outputs": [
    {
     "data": {
      "text/plain": [
       "array([[1, 2],\n",
       "       [5, 6]])"
      ]
     },
     "execution_count": 21,
     "metadata": {},
     "output_type": "execute_result"
    }
   ],
   "source": [
    "a[0:2,1:3]"
   ]
  },
  {
   "cell_type": "code",
   "execution_count": 16,
   "id": "a0382a55",
   "metadata": {},
   "outputs": [
    {
     "data": {
      "text/plain": [
       "(2, 2)"
      ]
     },
     "execution_count": 16,
     "metadata": {},
     "output_type": "execute_result"
    }
   ],
   "source": [
    "a[0:2,1:3].shape"
   ]
  },
  {
   "cell_type": "code",
   "execution_count": 39,
   "id": "cdfec5f2",
   "metadata": {},
   "outputs": [],
   "source": [
    "a = np.arange(20).reshape(4,5)"
   ]
  },
  {
   "cell_type": "code",
   "execution_count": 45,
   "id": "b928f3a1",
   "metadata": {},
   "outputs": [
    {
     "data": {
      "text/plain": [
       "array([[ 0,  1,  2,  3,  4],\n",
       "       [ 5,  6,  7,  8,  9],\n",
       "       [10, 11, 12, 13, 14],\n",
       "       [15, 16, 17, 18, 19]])"
      ]
     },
     "execution_count": 45,
     "metadata": {},
     "output_type": "execute_result"
    }
   ],
   "source": [
    "a"
   ]
  },
  {
   "cell_type": "code",
   "execution_count": 46,
   "id": "503ed175",
   "metadata": {},
   "outputs": [],
   "source": [
    "idx1 = [1,3,2]"
   ]
  },
  {
   "cell_type": "code",
   "execution_count": 47,
   "id": "679495d7",
   "metadata": {},
   "outputs": [],
   "source": [
    "idx2 = [3,0,2]"
   ]
  },
  {
   "cell_type": "code",
   "execution_count": 48,
   "id": "ebb10ace",
   "metadata": {},
   "outputs": [
    {
     "data": {
      "text/plain": [
       "array([ 8, 15, 12])"
      ]
     },
     "execution_count": 48,
     "metadata": {},
     "output_type": "execute_result"
    }
   ],
   "source": [
    "a[idx1,idx2]"
   ]
  },
  {
   "cell_type": "code",
   "execution_count": 43,
   "id": "4db2747f",
   "metadata": {
    "collapsed": true
   },
   "outputs": [
    {
     "ename": "IndexError",
     "evalue": "index 3 is out of bounds for axis 0 with size 3",
     "output_type": "error",
     "traceback": [
      "\u001b[1;31m---------------------------------------------------------------------------\u001b[0m",
      "\u001b[1;31mIndexError\u001b[0m                                Traceback (most recent call last)",
      "Input \u001b[1;32mIn [43]\u001b[0m, in \u001b[0;36m<cell line: 1>\u001b[1;34m()\u001b[0m\n\u001b[1;32m----> 1\u001b[0m \u001b[43ma\u001b[49m\u001b[43m[\u001b[49m\u001b[43midx1\u001b[49m\u001b[43m]\u001b[49m\u001b[43m[\u001b[49m\u001b[43midx2\u001b[49m\u001b[43m]\u001b[49m\n",
      "\u001b[1;31mIndexError\u001b[0m: index 3 is out of bounds for axis 0 with size 3"
     ]
    }
   ],
   "source": [
    "# Gives error , because it means row of row\n",
    "a[idx1][idx2]"
   ]
  },
  {
   "cell_type": "code",
   "execution_count": 50,
   "id": "510b58dc",
   "metadata": {},
   "outputs": [
    {
     "data": {
      "text/plain": [
       "1"
      ]
     },
     "execution_count": 50,
     "metadata": {},
     "output_type": "execute_result"
    }
   ],
   "source": [
    "a = np.arange(1,13).reshape(3,4) \n",
    "b = a[1,(1,3)] \n",
    "b.ndim"
   ]
  },
  {
   "cell_type": "markdown",
   "id": "ce865284",
   "metadata": {},
   "source": [
    "* Equating the result of **fancy index** to spesific values"
   ]
  },
  {
   "cell_type": "code",
   "execution_count": 51,
   "id": "2c16bc43",
   "metadata": {},
   "outputs": [
    {
     "data": {
      "text/plain": [
       "array([ 1,  2,  3,  4,  5,  6,  7,  8,  9, 10, 11, 12, 13, 14])"
      ]
     },
     "execution_count": 51,
     "metadata": {},
     "output_type": "execute_result"
    }
   ],
   "source": [
    "x"
   ]
  },
  {
   "cell_type": "code",
   "execution_count": 56,
   "id": "ddb31080",
   "metadata": {},
   "outputs": [],
   "source": [
    "x[[1,2,3]] = 20"
   ]
  },
  {
   "cell_type": "code",
   "execution_count": 57,
   "id": "18106139",
   "metadata": {},
   "outputs": [
    {
     "data": {
      "text/plain": [
       "array([ 1, 20, 20, 20,  5,  6,  7,  8,  9, 10, 11, 12, 13, 14])"
      ]
     },
     "execution_count": 57,
     "metadata": {},
     "output_type": "execute_result"
    }
   ],
   "source": [
    "x"
   ]
  },
  {
   "cell_type": "code",
   "execution_count": 58,
   "id": "0ece202e",
   "metadata": {},
   "outputs": [],
   "source": [
    "x = np.arange(9)"
   ]
  },
  {
   "cell_type": "code",
   "execution_count": 59,
   "id": "7e11ef72",
   "metadata": {},
   "outputs": [],
   "source": [
    "x[[1,2,5]] = 100,200,500"
   ]
  },
  {
   "cell_type": "code",
   "execution_count": 60,
   "id": "989de9ee",
   "metadata": {},
   "outputs": [
    {
     "data": {
      "text/plain": [
       "array([  0, 100, 200,   3,   4, 500,   6,   7,   8])"
      ]
     },
     "execution_count": 60,
     "metadata": {},
     "output_type": "execute_result"
    }
   ],
   "source": [
    "x"
   ]
  }
 ],
 "metadata": {
  "kernelspec": {
   "display_name": "Python 3 (ipykernel)",
   "language": "python",
   "name": "python3"
  },
  "language_info": {
   "codemirror_mode": {
    "name": "ipython",
    "version": 3
   },
   "file_extension": ".py",
   "mimetype": "text/x-python",
   "name": "python",
   "nbconvert_exporter": "python",
   "pygments_lexer": "ipython3",
   "version": "3.9.12"
  }
 },
 "nbformat": 4,
 "nbformat_minor": 5
}
