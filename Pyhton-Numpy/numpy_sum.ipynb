{
 "cells": [
  {
   "cell_type": "code",
   "execution_count": 1,
   "id": "0fe2cba7",
   "metadata": {},
   "outputs": [],
   "source": [
    "import numpy as np"
   ]
  },
  {
   "cell_type": "markdown",
   "id": "035a4667",
   "metadata": {},
   "source": [
    "# Sum\n",
    "\n",
    "* \n",
    "Let's find how many elements provide the given contiion"
   ]
  },
  {
   "cell_type": "code",
   "execution_count": 30,
   "id": "d9fc148c",
   "metadata": {},
   "outputs": [],
   "source": [
    "a = np.arange(1,21).reshape(4,5)"
   ]
  },
  {
   "cell_type": "code",
   "execution_count": 3,
   "id": "3f339ed7",
   "metadata": {},
   "outputs": [
    {
     "data": {
      "text/plain": [
       "array([[ 1,  2,  3,  4,  5],\n",
       "       [ 6,  7,  8,  9, 10],\n",
       "       [11, 12, 13, 14, 15],\n",
       "       [16, 17, 18, 19, 20]])"
      ]
     },
     "execution_count": 3,
     "metadata": {},
     "output_type": "execute_result"
    }
   ],
   "source": [
    "a"
   ]
  },
  {
   "cell_type": "code",
   "execution_count": 4,
   "id": "adefb44f",
   "metadata": {},
   "outputs": [
    {
     "data": {
      "text/plain": [
       "210"
      ]
     },
     "execution_count": 4,
     "metadata": {},
     "output_type": "execute_result"
    }
   ],
   "source": [
    "np.sum(a)"
   ]
  },
  {
   "cell_type": "code",
   "execution_count": 5,
   "id": "bb5d7dc4",
   "metadata": {},
   "outputs": [],
   "source": [
    "filt = a<5"
   ]
  },
  {
   "cell_type": "code",
   "execution_count": 10,
   "id": "520a5a37",
   "metadata": {},
   "outputs": [
    {
     "data": {
      "text/plain": [
       "array([[ True,  True,  True,  True, False],\n",
       "       [False, False, False, False, False],\n",
       "       [False, False, False, False, False],\n",
       "       [False, False, False, False, False]])"
      ]
     },
     "execution_count": 10,
     "metadata": {},
     "output_type": "execute_result"
    }
   ],
   "source": [
    "filt"
   ]
  },
  {
   "cell_type": "code",
   "execution_count": 9,
   "id": "14521fed",
   "metadata": {},
   "outputs": [
    {
     "data": {
      "text/plain": [
       "4"
      ]
     },
     "execution_count": 9,
     "metadata": {},
     "output_type": "execute_result"
    }
   ],
   "source": [
    "np.sum(filt)"
   ]
  },
  {
   "cell_type": "code",
   "execution_count": 11,
   "id": "654c6ca6",
   "metadata": {},
   "outputs": [
    {
     "data": {
      "text/plain": [
       "array([1, 2, 3, 4])"
      ]
     },
     "execution_count": 11,
     "metadata": {},
     "output_type": "execute_result"
    }
   ],
   "source": [
    "a[filt]"
   ]
  },
  {
   "cell_type": "code",
   "execution_count": 7,
   "id": "4a4a0353",
   "metadata": {},
   "outputs": [
    {
     "data": {
      "text/plain": [
       "10"
      ]
     },
     "execution_count": 7,
     "metadata": {},
     "output_type": "execute_result"
    }
   ],
   "source": [
    "np.sum(a[filt])"
   ]
  },
  {
   "cell_type": "code",
   "execution_count": 13,
   "id": "eb2c82a5",
   "metadata": {},
   "outputs": [],
   "source": [
    "filt = (a>5) & (a<9)"
   ]
  },
  {
   "cell_type": "code",
   "execution_count": 14,
   "id": "a47476be",
   "metadata": {},
   "outputs": [
    {
     "data": {
      "text/plain": [
       "3"
      ]
     },
     "execution_count": 14,
     "metadata": {},
     "output_type": "execute_result"
    }
   ],
   "source": [
    "np.sum(filt)"
   ]
  },
  {
   "cell_type": "code",
   "execution_count": 15,
   "id": "9a493901",
   "metadata": {},
   "outputs": [
    {
     "data": {
      "text/plain": [
       "21"
      ]
     },
     "execution_count": 15,
     "metadata": {},
     "output_type": "execute_result"
    }
   ],
   "source": [
    "np.sum(a[filt])"
   ]
  },
  {
   "cell_type": "code",
   "execution_count": 16,
   "id": "3cd46070",
   "metadata": {},
   "outputs": [],
   "source": [
    "filt = ~((a>5) & (a<9))"
   ]
  },
  {
   "cell_type": "code",
   "execution_count": 18,
   "id": "5ded90df",
   "metadata": {},
   "outputs": [
    {
     "data": {
      "text/plain": [
       "array([ 1,  2,  3,  4,  5,  9, 10, 11, 12, 13, 14, 15, 16, 17, 18, 19, 20])"
      ]
     },
     "execution_count": 18,
     "metadata": {},
     "output_type": "execute_result"
    }
   ],
   "source": [
    "a[filt]"
   ]
  },
  {
   "cell_type": "code",
   "execution_count": 17,
   "id": "95070368",
   "metadata": {},
   "outputs": [
    {
     "data": {
      "text/plain": [
       "189"
      ]
     },
     "execution_count": 17,
     "metadata": {},
     "output_type": "execute_result"
    }
   ],
   "source": [
    "np.sum(a[filt])"
   ]
  },
  {
   "cell_type": "code",
   "execution_count": 39,
   "id": "9ceddc6a",
   "metadata": {},
   "outputs": [
    {
     "data": {
      "text/plain": [
       "17"
      ]
     },
     "execution_count": 39,
     "metadata": {},
     "output_type": "execute_result"
    }
   ],
   "source": [
    "np.sum(~((a>5) & (a<9)))"
   ]
  },
  {
   "cell_type": "code",
   "execution_count": 38,
   "id": "02c3d786",
   "metadata": {},
   "outputs": [
    {
     "data": {
      "text/plain": [
       "189"
      ]
     },
     "execution_count": 38,
     "metadata": {},
     "output_type": "execute_result"
    }
   ],
   "source": [
    "np.sum(a[~((a>5) & (a<9))])"
   ]
  },
  {
   "cell_type": "markdown",
   "id": "6e879052",
   "metadata": {},
   "source": [
    "## Summation on Specific Axis"
   ]
  },
  {
   "cell_type": "code",
   "execution_count": 40,
   "id": "faf64a91",
   "metadata": {},
   "outputs": [
    {
     "data": {
      "text/plain": [
       "array([[ 1,  2,  3,  4,  5],\n",
       "       [ 6,  7,  8,  9, 10],\n",
       "       [11, 12, 13, 14, 15],\n",
       "       [16, 17, 18, 19, 20]])"
      ]
     },
     "execution_count": 40,
     "metadata": {},
     "output_type": "execute_result"
    }
   ],
   "source": [
    "a"
   ]
  },
  {
   "cell_type": "code",
   "execution_count": 41,
   "id": "574088e1",
   "metadata": {},
   "outputs": [
    {
     "data": {
      "text/plain": [
       "array([34, 38, 42, 46, 50])"
      ]
     },
     "execution_count": 41,
     "metadata": {},
     "output_type": "execute_result"
    }
   ],
   "source": [
    "np.sum(a, axis = 0)"
   ]
  },
  {
   "cell_type": "code",
   "execution_count": 42,
   "id": "0073f157",
   "metadata": {},
   "outputs": [
    {
     "data": {
      "text/plain": [
       "array([15, 40, 65, 90])"
      ]
     },
     "execution_count": 42,
     "metadata": {},
     "output_type": "execute_result"
    }
   ],
   "source": [
    "np.sum(a, axis = 1)"
   ]
  },
  {
   "cell_type": "code",
   "execution_count": 45,
   "id": "c6ee4d16",
   "metadata": {},
   "outputs": [
    {
     "data": {
      "text/plain": [
       "(5,)"
      ]
     },
     "execution_count": 45,
     "metadata": {},
     "output_type": "execute_result"
    }
   ],
   "source": [
    "a=np.arange(1,21).reshape(4,5) \n",
    "np.sum(a,axis=0).shape\n"
   ]
  },
  {
   "cell_type": "code",
   "execution_count": null,
   "id": "d40e8899",
   "metadata": {},
   "outputs": [],
   "source": [
    "import numpy\n",
    "\n",
    "N, M = map(int, input().split())\n",
    "array = numpy.array([input().split() for _ in range(N)],int)\n",
    "print(numpy.prod(numpy.sum(array, axis=0)))"
   ]
  }
 ],
 "metadata": {
  "kernelspec": {
   "display_name": "Python 3 (ipykernel)",
   "language": "python",
   "name": "python3"
  },
  "language_info": {
   "codemirror_mode": {
    "name": "ipython",
    "version": 3
   },
   "file_extension": ".py",
   "mimetype": "text/x-python",
   "name": "python",
   "nbconvert_exporter": "python",
   "pygments_lexer": "ipython3",
   "version": "3.9.12"
  }
 },
 "nbformat": 4,
 "nbformat_minor": 5
}
