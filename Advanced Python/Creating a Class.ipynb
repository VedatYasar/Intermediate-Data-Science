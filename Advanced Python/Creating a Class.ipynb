{
 "cells": [
  {
   "cell_type": "markdown",
   "id": "6684ca34",
   "metadata": {},
   "source": [
    "# Defining Calss"
   ]
  },
  {
   "cell_type": "markdown",
   "id": "99fa577b",
   "metadata": {},
   "source": [
    "* We used **def** when defining functions, we will use **class** when defining a class\n",
    "\n",
    "\n",
    "* Data in the class are called **attributes**, functions are called **methods**."
   ]
  },
  {
   "cell_type": "markdown",
   "id": "f1aef4f9",
   "metadata": {},
   "source": [
    "### Attribute"
   ]
  },
  {
   "cell_type": "code",
   "execution_count": 2,
   "id": "fa6021f2",
   "metadata": {},
   "outputs": [],
   "source": [
    "class Employee:\n",
    "    pass"
   ]
  },
  {
   "cell_type": "code",
   "execution_count": 3,
   "id": "2bbb8d38",
   "metadata": {},
   "outputs": [],
   "source": [
    "e = Employee()"
   ]
  },
  {
   "cell_type": "code",
   "execution_count": 4,
   "id": "8504f55a",
   "metadata": {},
   "outputs": [],
   "source": [
    "# We added an attribute to object e\n",
    "e.a = 4"
   ]
  },
  {
   "cell_type": "code",
   "execution_count": 5,
   "id": "15351b05",
   "metadata": {},
   "outputs": [
    {
     "data": {
      "text/plain": [
       "4"
      ]
     },
     "execution_count": 5,
     "metadata": {},
     "output_type": "execute_result"
    }
   ],
   "source": [
    "e.a"
   ]
  },
  {
   "cell_type": "markdown",
   "id": "fb8ba53c",
   "metadata": {},
   "source": [
    "Instead of doing this one by one, we can also give the values ​​to the attrubutes at first."
   ]
  },
  {
   "cell_type": "code",
   "execution_count": 6,
   "id": "be53ba1d",
   "metadata": {},
   "outputs": [],
   "source": [
    "class Employee:\n",
    "    def __init__(self, name, last, age, pay):\n",
    "        self.name = name\n",
    "        self.last = last\n",
    "        self.age = age\n",
    "        self.pay = pay"
   ]
  },
  {
   "cell_type": "markdown",
   "id": "3701795f",
   "metadata": {},
   "source": [
    "Class refers to a form for objects"
   ]
  },
  {
   "cell_type": "code",
   "execution_count": 7,
   "id": "cd90ffa1",
   "metadata": {},
   "outputs": [],
   "source": [
    "emp_1 = Employee(\"James\", \"Hughes\", 32, 5000)"
   ]
  },
  {
   "cell_type": "markdown",
   "id": "cb561021",
   "metadata": {},
   "source": [
    "There is an object we created above, an object of the Employee class."
   ]
  },
  {
   "cell_type": "code",
   "execution_count": 8,
   "id": "0b45d09f",
   "metadata": {},
   "outputs": [],
   "source": [
    "emp_2 = Employee(\"Charlie\", \"Brown\", 22, 3000)"
   ]
  },
  {
   "cell_type": "code",
   "execution_count": 9,
   "id": "f59d04a8",
   "metadata": {},
   "outputs": [
    {
     "data": {
      "text/plain": [
       "'James'"
      ]
     },
     "execution_count": 9,
     "metadata": {},
     "output_type": "execute_result"
    }
   ],
   "source": [
    "emp_1.name"
   ]
  },
  {
   "cell_type": "markdown",
   "id": "8162f857",
   "metadata": {},
   "source": [
    "Every attribute we create here is **instance variable**."
   ]
  },
  {
   "cell_type": "markdown",
   "id": "659934a1",
   "metadata": {},
   "source": [
    "### Method"
   ]
  },
  {
   "cell_type": "code",
   "execution_count": 11,
   "id": "e190d67f",
   "metadata": {},
   "outputs": [],
   "source": [
    "class Employee:\n",
    "    def __init__(self, name, last, age, pay):\n",
    "        self.name = name\n",
    "        self.last = last\n",
    "        self.age = age\n",
    "        self.pay = pay\n",
    "        \n",
    "    def fullname(self):\n",
    "        print(f\"{self.name} {self.last}\")"
   ]
  },
  {
   "cell_type": "code",
   "execution_count": 12,
   "id": "34f8db22",
   "metadata": {},
   "outputs": [],
   "source": [
    "emp_1 = Employee(\"James\", \"Hughes\", 32, 5000)"
   ]
  },
  {
   "cell_type": "code",
   "execution_count": 13,
   "id": "5066dd9e",
   "metadata": {},
   "outputs": [],
   "source": [
    "emp_2 = Employee(\"Charlie\", \"Brown\", 22, 3000)"
   ]
  },
  {
   "cell_type": "code",
   "execution_count": 16,
   "id": "0c45e764",
   "metadata": {},
   "outputs": [
    {
     "name": "stdout",
     "output_type": "stream",
     "text": [
      "James Hughes\n"
     ]
    }
   ],
   "source": [
    "emp_1.fullname()"
   ]
  },
  {
   "cell_type": "code",
   "execution_count": 17,
   "id": "47cfe751",
   "metadata": {},
   "outputs": [
    {
     "name": "stdout",
     "output_type": "stream",
     "text": [
      "Charlie Brown\n"
     ]
    }
   ],
   "source": [
    "emp_2.fullname()"
   ]
  }
 ],
 "metadata": {
  "kernelspec": {
   "display_name": "Python 3 (ipykernel)",
   "language": "python",
   "name": "python3"
  },
  "language_info": {
   "codemirror_mode": {
    "name": "ipython",
    "version": 3
   },
   "file_extension": ".py",
   "mimetype": "text/x-python",
   "name": "python",
   "nbconvert_exporter": "python",
   "pygments_lexer": "ipython3",
   "version": "3.9.12"
  }
 },
 "nbformat": 4,
 "nbformat_minor": 5
}
