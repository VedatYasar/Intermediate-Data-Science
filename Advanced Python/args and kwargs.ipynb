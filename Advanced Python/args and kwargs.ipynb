{
 "cells": [
  {
   "cell_type": "markdown",
   "id": "29327241",
   "metadata": {},
   "source": [
    "# args &  kwargs"
   ]
  },
  {
   "cell_type": "markdown",
   "id": "6f69dc00",
   "metadata": {},
   "source": [
    "## args"
   ]
  },
  {
   "cell_type": "markdown",
   "id": "bc5abd13",
   "metadata": {},
   "source": [
    "*args means I had an object like tuple at first but I separated it into individual elements"
   ]
  },
  {
   "cell_type": "code",
   "execution_count": 12,
   "id": "fdf35b53",
   "metadata": {},
   "outputs": [],
   "source": [
    "def sum(*args):\n",
    "    res = 0\n",
    "    for e in args:\n",
    "        res += e\n",
    "    return res"
   ]
  },
  {
   "cell_type": "code",
   "execution_count": 13,
   "id": "0b45046a",
   "metadata": {},
   "outputs": [],
   "source": [
    "def sum(*numbers):\n",
    "    res = 0\n",
    "    print(type(numbers))\n",
    "    print(numbers)\n",
    "    for e in numbers:\n",
    "        res += e\n",
    "    return res"
   ]
  },
  {
   "cell_type": "code",
   "execution_count": 14,
   "id": "075c8bd3",
   "metadata": {},
   "outputs": [
    {
     "name": "stdout",
     "output_type": "stream",
     "text": [
      "<class 'tuple'>\n",
      "(1, 2)\n"
     ]
    },
    {
     "data": {
      "text/plain": [
       "3"
      ]
     },
     "execution_count": 14,
     "metadata": {},
     "output_type": "execute_result"
    }
   ],
   "source": [
    "sum(1,2)"
   ]
  },
  {
   "cell_type": "markdown",
   "id": "7d9cfc96",
   "metadata": {},
   "source": [
    "## kwargs"
   ]
  },
  {
   "cell_type": "markdown",
   "id": "d03a1d2c",
   "metadata": {},
   "source": [
    "Allows us to give a variable number of keyword arguments to the function"
   ]
  },
  {
   "cell_type": "code",
   "execution_count": 15,
   "id": "9ab2d4ef",
   "metadata": {},
   "outputs": [],
   "source": [
    "def students(**kwargs):\n",
    "    \n",
    "    for v in kwargs.values():\n",
    "        print(v)"
   ]
  },
  {
   "cell_type": "code",
   "execution_count": 17,
   "id": "efd4649c",
   "metadata": {},
   "outputs": [
    {
     "name": "stdout",
     "output_type": "stream",
     "text": [
      "Jake\n",
      "401\n"
     ]
    }
   ],
   "source": [
    "students(name=\"Jake\", student_number=\"401\")"
   ]
  },
  {
   "cell_type": "markdown",
   "id": "98c875d4",
   "metadata": {},
   "source": [
    "## Using args and kwargs Together"
   ]
  },
  {
   "cell_type": "markdown",
   "id": "7119d5d1",
   "metadata": {},
   "source": [
    "Order of use matters"
   ]
  },
  {
   "cell_type": "code",
   "execution_count": 18,
   "id": "938b5269",
   "metadata": {},
   "outputs": [],
   "source": [
    "def weird(*args, **kwargs):\n",
    "    res = 0\n",
    "    for e in args:\n",
    "        res += e\n",
    "    for k,v in kwargs.items():\n",
    "        print(k,\":\",v)\n",
    "    \n",
    "    return res"
   ]
  },
  {
   "cell_type": "code",
   "execution_count": 19,
   "id": "50b5691f",
   "metadata": {},
   "outputs": [
    {
     "name": "stdout",
     "output_type": "stream",
     "text": [
      "name : Jake\n",
      "student_number : 401\n"
     ]
    },
    {
     "data": {
      "text/plain": [
       "6"
      ]
     },
     "execution_count": 19,
     "metadata": {},
     "output_type": "execute_result"
    }
   ],
   "source": [
    "weird(1, 2, 3, name=\"Jake\", student_number=\"401\")"
   ]
  },
  {
   "cell_type": "markdown",
   "id": "36993db2",
   "metadata": {},
   "source": [
    "## Unpacking"
   ]
  },
  {
   "cell_type": "code",
   "execution_count": 20,
   "id": "a743112f",
   "metadata": {},
   "outputs": [],
   "source": [
    "l1 = [1,2,3,4]"
   ]
  },
  {
   "cell_type": "code",
   "execution_count": 21,
   "id": "565fdf8b",
   "metadata": {},
   "outputs": [],
   "source": [
    "l2 = [21,22]"
   ]
  },
  {
   "cell_type": "code",
   "execution_count": 22,
   "id": "3330c5aa",
   "metadata": {},
   "outputs": [],
   "source": [
    "merged = [*l1, *l2]"
   ]
  },
  {
   "cell_type": "code",
   "execution_count": 23,
   "id": "9e371377",
   "metadata": {},
   "outputs": [
    {
     "data": {
      "text/plain": [
       "[1, 2, 3, 4, 21, 22]"
      ]
     },
     "execution_count": 23,
     "metadata": {},
     "output_type": "execute_result"
    }
   ],
   "source": [
    "merged"
   ]
  },
  {
   "cell_type": "code",
   "execution_count": 24,
   "id": "d962ea3b",
   "metadata": {},
   "outputs": [],
   "source": [
    "d1 = {\"name\": \"Jake\", \"number\": 402}\n",
    "d3 = {\"name\": \"Sky\", \"grade\": 74}"
   ]
  },
  {
   "cell_type": "code",
   "execution_count": 25,
   "id": "853511c4",
   "metadata": {},
   "outputs": [],
   "source": [
    "d_merged = {**d1, **d3}"
   ]
  },
  {
   "cell_type": "code",
   "execution_count": 26,
   "id": "5251ded0",
   "metadata": {},
   "outputs": [
    {
     "data": {
      "text/plain": [
       "{'name': 'Sky', 'number': 402, 'grade': 74}"
      ]
     },
     "execution_count": 26,
     "metadata": {},
     "output_type": "execute_result"
    }
   ],
   "source": [
    "d_merged"
   ]
  },
  {
   "cell_type": "code",
   "execution_count": null,
   "id": "128ae830",
   "metadata": {},
   "outputs": [],
   "source": []
  }
 ],
 "metadata": {
  "kernelspec": {
   "display_name": "Python 3 (ipykernel)",
   "language": "python",
   "name": "python3"
  },
  "language_info": {
   "codemirror_mode": {
    "name": "ipython",
    "version": 3
   },
   "file_extension": ".py",
   "mimetype": "text/x-python",
   "name": "python",
   "nbconvert_exporter": "python",
   "pygments_lexer": "ipython3",
   "version": "3.9.12"
  }
 },
 "nbformat": 4,
 "nbformat_minor": 5
}
