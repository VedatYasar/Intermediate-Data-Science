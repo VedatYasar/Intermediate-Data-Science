{
 "cells": [
  {
   "cell_type": "markdown",
   "id": "dfeb7504",
   "metadata": {},
   "source": [
    "# Closure"
   ]
  },
  {
   "cell_type": "markdown",
   "id": "69d72c60",
   "metadata": {},
   "source": [
    "Inner function's access to outer function scope even after calling the outer function"
   ]
  },
  {
   "cell_type": "code",
   "execution_count": 5,
   "id": "66b50d9a",
   "metadata": {},
   "outputs": [],
   "source": [
    "def outer():\n",
    "    msg = \"Hey\"\n",
    "    \n",
    "    def inner():\n",
    "        print(msg)\n",
    "        \n",
    "    return inner()     #inner as func"
   ]
  },
  {
   "cell_type": "code",
   "execution_count": 6,
   "id": "2ef4bd58",
   "metadata": {},
   "outputs": [
    {
     "name": "stdout",
     "output_type": "stream",
     "text": [
      "Hey\n"
     ]
    }
   ],
   "source": [
    "outer()"
   ]
  },
  {
   "cell_type": "code",
   "execution_count": 7,
   "id": "45dd8145",
   "metadata": {},
   "outputs": [],
   "source": [
    "def outer():\n",
    "    msg = \"Hey\"\n",
    "    \n",
    "    def inner():\n",
    "        print(msg)\n",
    "        \n",
    "    return inner        #inner as obj"
   ]
  },
  {
   "cell_type": "code",
   "execution_count": 8,
   "id": "53cff07b",
   "metadata": {},
   "outputs": [
    {
     "data": {
      "text/plain": [
       "<function __main__.outer.<locals>.inner()>"
      ]
     },
     "execution_count": 8,
     "metadata": {},
     "output_type": "execute_result"
    }
   ],
   "source": [
    "outer()"
   ]
  },
  {
   "cell_type": "code",
   "execution_count": 9,
   "id": "8af3c0ec",
   "metadata": {},
   "outputs": [],
   "source": [
    "def outer(msg):\n",
    "    msg = msg\n",
    "    \n",
    "    def inner():\n",
    "        print(msg)\n",
    "        \n",
    "    return inner()"
   ]
  },
  {
   "cell_type": "code",
   "execution_count": 18,
   "id": "40004b7d",
   "metadata": {},
   "outputs": [
    {
     "name": "stdout",
     "output_type": "stream",
     "text": [
      "Hi\n"
     ]
    }
   ],
   "source": [
    "hi_f = outer(\"Hi\")"
   ]
  },
  {
   "cell_type": "code",
   "execution_count": 19,
   "id": "53344ef9",
   "metadata": {},
   "outputs": [
    {
     "name": "stdout",
     "output_type": "stream",
     "text": [
      "Hey\n"
     ]
    }
   ],
   "source": [
    "hey_f = outer(\"Hey\");"
   ]
  }
 ],
 "metadata": {
  "kernelspec": {
   "display_name": "Python 3 (ipykernel)",
   "language": "python",
   "name": "python3"
  },
  "language_info": {
   "codemirror_mode": {
    "name": "ipython",
    "version": 3
   },
   "file_extension": ".py",
   "mimetype": "text/x-python",
   "name": "python",
   "nbconvert_exporter": "python",
   "pygments_lexer": "ipython3",
   "version": "3.9.12"
  }
 },
 "nbformat": 4,
 "nbformat_minor": 5
}
