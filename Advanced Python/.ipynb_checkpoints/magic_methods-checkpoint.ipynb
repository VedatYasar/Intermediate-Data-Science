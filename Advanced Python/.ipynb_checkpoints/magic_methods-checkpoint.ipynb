{
 "cells": [
  {
   "cell_type": "markdown",
   "id": "1ff9742d",
   "metadata": {},
   "source": [
    "# Magic Methods"
   ]
  },
  {
   "cell_type": "markdown",
   "id": "c2a4f78f",
   "metadata": {},
   "source": [
    "* We can change some built-in behaviors using magic methods. Surrounded by __ s, also called dunder method"
   ]
  },
  {
   "cell_type": "code",
   "execution_count": 1,
   "id": "724ba464",
   "metadata": {},
   "outputs": [],
   "source": [
    "class Employee:\n",
    "    \n",
    "    raise_percent = 1.05\n",
    "    \n",
    "    def __init__(self, name, last, age, pay):\n",
    "        self.name = name\n",
    "        self.last = last\n",
    "        self.age = age\n",
    "        self.pay = pay\n",
    "        \n",
    "    def apply_raise(self):\n",
    "        self.pay = self.pay * self.raise_percent"
   ]
  },
  {
   "cell_type": "code",
   "execution_count": 37,
   "id": "629fc270",
   "metadata": {},
   "outputs": [],
   "source": [
    "emp_1 = Employee(\"James\", \"Hughes\", 32, 5000)"
   ]
  },
  {
   "cell_type": "code",
   "execution_count": 38,
   "id": "7e6bd658",
   "metadata": {},
   "outputs": [],
   "source": [
    "emp_2 = Employee(\"Charlie\", \"Brown\", 22, 3000)"
   ]
  },
  {
   "cell_type": "markdown",
   "id": "5ef64fec",
   "metadata": {},
   "source": [
    "## \\_\\_init\\_\\_()\n",
    "\n",
    "Used to create an object in a class"
   ]
  },
  {
   "cell_type": "markdown",
   "id": "e169334f",
   "metadata": {},
   "source": [
    "## \\_\\_str\\_\\_()\n",
    "\n",
    "Creates a readable description of the object"
   ]
  },
  {
   "cell_type": "markdown",
   "id": "14ee8309",
   "metadata": {},
   "source": [
    "## \\_\\_add\\_\\_()"
   ]
  },
  {
   "cell_type": "markdown",
   "id": "6aabf6bd",
   "metadata": {},
   "source": [
    "## \\_\\_len\\_\\_()\n",
    "length function"
   ]
  },
  {
   "cell_type": "code",
   "execution_count": 22,
   "id": "91350d88",
   "metadata": {},
   "outputs": [],
   "source": [
    "class Employee:\n",
    "    \n",
    "    raise_percent = 1.05\n",
    "    \n",
    "    def __init__(self, name, last, age, pay):\n",
    "        self.name = name\n",
    "        self.last = last\n",
    "        self.age = age\n",
    "        self.pay = pay\n",
    "        \n",
    "    def apply_raise(self):\n",
    "        self.pay = self.pay * self.raise_percent\n",
    "    \n",
    "    def __str__(self):\n",
    "        print (f\"Employer(name={self.name}, last={self.last}, age={self.age}, pay={self.pay})\")\n",
    "        \n",
    "    def __add__(self, other):\n",
    "        return self.pay + other.pay\n",
    "    \n",
    "    def __len__(self):\n",
    "        return len(self.name)"
   ]
  },
  {
   "cell_type": "code",
   "execution_count": 23,
   "id": "9e0c1357",
   "metadata": {},
   "outputs": [],
   "source": [
    "emp_1 = Employee(\"James\", \"Hughes\", 32, 5000)"
   ]
  },
  {
   "cell_type": "code",
   "execution_count": 24,
   "id": "f19af054",
   "metadata": {},
   "outputs": [],
   "source": [
    "emp_2 = Employee(\"Charlie\", \"Brown\", 22, 3000)"
   ]
  },
  {
   "cell_type": "code",
   "execution_count": 26,
   "id": "64cdeaeb",
   "metadata": {},
   "outputs": [
    {
     "data": {
      "text/plain": [
       "8000"
      ]
     },
     "execution_count": 26,
     "metadata": {},
     "output_type": "execute_result"
    }
   ],
   "source": [
    "emp_1 + emp_2"
   ]
  },
  {
   "cell_type": "code",
   "execution_count": 27,
   "id": "0010cef6",
   "metadata": {},
   "outputs": [
    {
     "data": {
      "text/plain": [
       "5"
      ]
     },
     "execution_count": 27,
     "metadata": {},
     "output_type": "execute_result"
    }
   ],
   "source": [
    "len(emp_1)"
   ]
  },
  {
   "cell_type": "code",
   "execution_count": 29,
   "id": "1f26bf75",
   "metadata": {},
   "outputs": [
    {
     "data": {
      "text/plain": [
       "7"
      ]
     },
     "execution_count": 29,
     "metadata": {},
     "output_type": "execute_result"
    }
   ],
   "source": [
    "len(emp_2)"
   ]
  }
 ],
 "metadata": {
  "kernelspec": {
   "display_name": "Python 3 (ipykernel)",
   "language": "python",
   "name": "python3"
  },
  "language_info": {
   "codemirror_mode": {
    "name": "ipython",
    "version": 3
   },
   "file_extension": ".py",
   "mimetype": "text/x-python",
   "name": "python",
   "nbconvert_exporter": "python",
   "pygments_lexer": "ipython3",
   "version": "3.9.12"
  }
 },
 "nbformat": 4,
 "nbformat_minor": 5
}
