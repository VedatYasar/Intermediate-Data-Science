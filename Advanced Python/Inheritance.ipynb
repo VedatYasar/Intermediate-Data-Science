{
 "cells": [
  {
   "cell_type": "markdown",
   "id": "e9697729",
   "metadata": {},
   "source": [
    "# Inheritance"
   ]
  },
  {
   "cell_type": "markdown",
   "id": "750b6baa",
   "metadata": {},
   "source": [
    "Let's say I want to create different types of employees. Whether IT and HR"
   ]
  },
  {
   "cell_type": "code",
   "execution_count": 36,
   "id": "9988a527",
   "metadata": {},
   "outputs": [],
   "source": [
    "class Employee:\n",
    "    \n",
    "    raise_percent = 1.05\n",
    "    \n",
    "    def __init__(self, name, last, age, pay):\n",
    "        self.name = name\n",
    "        self.last = last\n",
    "        self.age = age\n",
    "        self.pay = pay\n",
    "        \n",
    "    def apply_raise(self):\n",
    "        self.pay = self.pay * self.raise_percent"
   ]
  },
  {
   "cell_type": "markdown",
   "id": "696ef987",
   "metadata": {},
   "source": [
    "* We write which class we want to inherit from in the parenthesis.\n",
    "\n",
    "* We call the inherited class **parent/super class** and the inheriting class we call **child/subclass**."
   ]
  },
  {
   "cell_type": "code",
   "execution_count": 37,
   "id": "629fc270",
   "metadata": {},
   "outputs": [],
   "source": [
    "emp_1 = Employee(\"James\", \"Hughes\", 32, 5000)"
   ]
  },
  {
   "cell_type": "code",
   "execution_count": 38,
   "id": "7e6bd658",
   "metadata": {},
   "outputs": [],
   "source": [
    "emp_2 = Employee(\"Charlie\", \"Brown\", 22, 3000)"
   ]
  },
  {
   "cell_type": "code",
   "execution_count": 39,
   "id": "71311576",
   "metadata": {},
   "outputs": [],
   "source": [
    "class IT(Employee):\n",
    "    pass"
   ]
  },
  {
   "cell_type": "markdown",
   "id": "8d928bd7",
   "metadata": {},
   "source": [
    "Even though we don't write anything inside IT subclass, it has access to Employee attributes.\n",
    "\n",
    "If it can't find it in the IT subclass, it will go and look where it inherited. For instance there is no method $__init__$ in IT, but it can call from Employee class."
   ]
  },
  {
   "cell_type": "code",
   "execution_count": 40,
   "id": "b42f5967",
   "metadata": {},
   "outputs": [],
   "source": [
    "it_1 = IT(\"James\", \"Hughes\", 32, 5000)"
   ]
  },
  {
   "cell_type": "code",
   "execution_count": 41,
   "id": "d439e135",
   "metadata": {},
   "outputs": [
    {
     "data": {
      "text/plain": [
       "{'name': 'James', 'last': 'Hughes', 'age': 32, 'pay': 5000}"
      ]
     },
     "execution_count": 41,
     "metadata": {},
     "output_type": "execute_result"
    }
   ],
   "source": [
    "it_1.__dict__"
   ]
  },
  {
   "cell_type": "code",
   "execution_count": 42,
   "id": "9804172d",
   "metadata": {},
   "outputs": [
    {
     "data": {
      "text/plain": [
       "'James'"
      ]
     },
     "execution_count": 42,
     "metadata": {},
     "output_type": "execute_result"
    }
   ],
   "source": [
    "it_1.name"
   ]
  },
  {
   "cell_type": "code",
   "execution_count": 43,
   "id": "61eac6b4",
   "metadata": {},
   "outputs": [
    {
     "data": {
      "text/plain": [
       "5000"
      ]
     },
     "execution_count": 43,
     "metadata": {},
     "output_type": "execute_result"
    }
   ],
   "source": [
    "it_1.pay"
   ]
  },
  {
   "cell_type": "code",
   "execution_count": 44,
   "id": "e3091273",
   "metadata": {},
   "outputs": [],
   "source": [
    "it_1.apply_raise()"
   ]
  },
  {
   "cell_type": "code",
   "execution_count": 45,
   "id": "dcb7c296",
   "metadata": {},
   "outputs": [
    {
     "data": {
      "text/plain": [
       "5250.0"
      ]
     },
     "execution_count": 45,
     "metadata": {},
     "output_type": "execute_result"
    }
   ],
   "source": [
    "it_1.pay"
   ]
  },
  {
   "cell_type": "markdown",
   "id": "2e7e0e18",
   "metadata": {},
   "source": [
    "* Let's say IT's raise rate is different from other departments"
   ]
  },
  {
   "cell_type": "code",
   "execution_count": 46,
   "id": "f9f53a89",
   "metadata": {},
   "outputs": [],
   "source": [
    "class IT(Employee):\n",
    "    raise_percent = 1.2"
   ]
  },
  {
   "cell_type": "code",
   "execution_count": 47,
   "id": "b6286b87",
   "metadata": {},
   "outputs": [],
   "source": [
    "it_1 = IT(\"James\", \"Hughes\", 32, 5000)"
   ]
  },
  {
   "cell_type": "code",
   "execution_count": 48,
   "id": "7bb17ee3",
   "metadata": {},
   "outputs": [
    {
     "data": {
      "text/plain": [
       "1.2"
      ]
     },
     "execution_count": 48,
     "metadata": {},
     "output_type": "execute_result"
    }
   ],
   "source": [
    "it_1.raise_percent"
   ]
  },
  {
   "cell_type": "code",
   "execution_count": 49,
   "id": "e1fa37c6",
   "metadata": {},
   "outputs": [],
   "source": [
    "it_1.apply_raise()"
   ]
  },
  {
   "cell_type": "code",
   "execution_count": 50,
   "id": "c2e05678",
   "metadata": {},
   "outputs": [
    {
     "data": {
      "text/plain": [
       "6000.0"
      ]
     },
     "execution_count": 50,
     "metadata": {},
     "output_type": "execute_result"
    }
   ],
   "source": [
    "it_1.pay"
   ]
  },
  {
   "cell_type": "markdown",
   "id": "f86de6b5",
   "metadata": {},
   "source": [
    "*  Changes made in child/subclass do not affect parent/super class."
   ]
  },
  {
   "cell_type": "code",
   "execution_count": 51,
   "id": "5f96b575",
   "metadata": {},
   "outputs": [
    {
     "data": {
      "text/plain": [
       "1.05"
      ]
     },
     "execution_count": 51,
     "metadata": {},
     "output_type": "execute_result"
    }
   ],
   "source": [
    "Employee.raise_percent"
   ]
  },
  {
   "cell_type": "markdown",
   "id": "25632ac0",
   "metadata": {},
   "source": [
    "\n",
    "I would like to add which language they know for IT professionals.\n",
    "\n",
    "All other attributes same as superclass, so then we can call from superclass"
   ]
  },
  {
   "cell_type": "code",
   "execution_count": 52,
   "id": "6e62749e",
   "metadata": {},
   "outputs": [],
   "source": [
    "class IT(Employee):\n",
    "    raise_percent = 1.2\n",
    "    def __init__(self, name, last, age, pay, lang):\n",
    "        self.name = name\n",
    "        self.last = last\n",
    "        self.age = age\n",
    "        self.pay = pay\n",
    "        self.lang = lang"
   ]
  },
  {
   "cell_type": "code",
   "execution_count": 53,
   "id": "10c96c2c",
   "metadata": {},
   "outputs": [],
   "source": [
    "it_1 = IT(\"James\", \"Hughes\", 32, 5000, \"pyhton\")"
   ]
  },
  {
   "cell_type": "code",
   "execution_count": 54,
   "id": "35d95b2a",
   "metadata": {},
   "outputs": [
    {
     "data": {
      "text/plain": [
       "'pyhton'"
      ]
     },
     "execution_count": 54,
     "metadata": {},
     "output_type": "execute_result"
    }
   ],
   "source": [
    "it_1.lang"
   ]
  },
  {
   "cell_type": "code",
   "execution_count": 55,
   "id": "5a4db6ab",
   "metadata": {},
   "outputs": [],
   "source": [
    "class IT(Employee):\n",
    "    raise_percent = 1.2\n",
    "    def __init__(self, name, last, age, pay, lang):\n",
    "        super().__init__(name,last,age,pay)\n",
    "        self.lang = lang"
   ]
  },
  {
   "cell_type": "markdown",
   "id": "4e7557ca",
   "metadata": {},
   "source": [
    "Thus, we did not write the same code over and over."
   ]
  },
  {
   "cell_type": "code",
   "execution_count": 64,
   "id": "e14969eb",
   "metadata": {},
   "outputs": [],
   "source": [
    "class HR(Employee):\n",
    "    raise_percent = 1.2\n",
    "    def __init__(self, name, last, age, pay, experience):\n",
    "        super().__init__(name,last,age,pay)\n",
    "        self.experience = experience\n",
    "    \n",
    "    def print_exp(self):\n",
    "        print(f\"This employee has {self.experience} years of experience\")"
   ]
  },
  {
   "cell_type": "code",
   "execution_count": 65,
   "id": "0d5d0c4d",
   "metadata": {},
   "outputs": [],
   "source": [
    "hr_1 = HR(\"Charlie\", \"Brown\", 22, 3000, 12)"
   ]
  },
  {
   "cell_type": "code",
   "execution_count": 66,
   "id": "43dd0f27",
   "metadata": {},
   "outputs": [
    {
     "name": "stdout",
     "output_type": "stream",
     "text": [
      "This employee has 12 years of experience\n"
     ]
    }
   ],
   "source": [
    "hr_1.print_exp()"
   ]
  },
  {
   "cell_type": "code",
   "execution_count": 69,
   "id": "f8716faf",
   "metadata": {},
   "outputs": [
    {
     "data": {
      "text/plain": [
       "True"
      ]
     },
     "execution_count": 69,
     "metadata": {},
     "output_type": "execute_result"
    }
   ],
   "source": [
    "isinstance(hr_1,HR)"
   ]
  },
  {
   "cell_type": "code",
   "execution_count": 70,
   "id": "d019fb52",
   "metadata": {},
   "outputs": [
    {
     "data": {
      "text/plain": [
       "True"
      ]
     },
     "execution_count": 70,
     "metadata": {},
     "output_type": "execute_result"
    }
   ],
   "source": [
    "isinstance(hr_1,Employee)"
   ]
  },
  {
   "cell_type": "code",
   "execution_count": 71,
   "id": "d02ab170",
   "metadata": {},
   "outputs": [
    {
     "data": {
      "text/plain": [
       "True"
      ]
     },
     "execution_count": 71,
     "metadata": {},
     "output_type": "execute_result"
    }
   ],
   "source": [
    "issubclass(HR,Employee)"
   ]
  },
  {
   "cell_type": "code",
   "execution_count": 72,
   "id": "fd7fb5d6",
   "metadata": {},
   "outputs": [
    {
     "data": {
      "text/plain": [
       "True"
      ]
     },
     "execution_count": 72,
     "metadata": {},
     "output_type": "execute_result"
    }
   ],
   "source": [
    "issubclass(IT,Employee)"
   ]
  },
  {
   "cell_type": "code",
   "execution_count": 73,
   "id": "ffa7ee24",
   "metadata": {},
   "outputs": [
    {
     "data": {
      "text/plain": [
       "False"
      ]
     },
     "execution_count": 73,
     "metadata": {},
     "output_type": "execute_result"
    }
   ],
   "source": [
    "issubclass(IT,HR)"
   ]
  }
 ],
 "metadata": {
  "kernelspec": {
   "display_name": "Python 3 (ipykernel)",
   "language": "python",
   "name": "python3"
  },
  "language_info": {
   "codemirror_mode": {
    "name": "ipython",
    "version": 3
   },
   "file_extension": ".py",
   "mimetype": "text/x-python",
   "name": "python",
   "nbconvert_exporter": "python",
   "pygments_lexer": "ipython3",
   "version": "3.9.12"
  }
 },
 "nbformat": 4,
 "nbformat_minor": 5
}
