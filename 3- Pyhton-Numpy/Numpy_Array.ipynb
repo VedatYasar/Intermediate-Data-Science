{
 "cells": [
  {
   "cell_type": "code",
   "execution_count": 1,
   "id": "b9c3edb6",
   "metadata": {},
   "outputs": [],
   "source": [
    "import numpy as np"
   ]
  },
  {
   "cell_type": "markdown",
   "id": "8fc83c62",
   "metadata": {},
   "source": [
    "# Numpy Array\n",
    "\n",
    "It's similar to python lists, but unlike them, it doesn't contain different types of elements."
   ]
  },
  {
   "cell_type": "markdown",
   "id": "1b6c6936",
   "metadata": {},
   "source": [
    "### Creating Array from Lists"
   ]
  },
  {
   "cell_type": "code",
   "execution_count": 2,
   "id": "369dd3f5",
   "metadata": {},
   "outputs": [],
   "source": [
    "x = np.array([1, 2, 3, 4])"
   ]
  },
  {
   "cell_type": "code",
   "execution_count": 3,
   "id": "ac3d0f3d",
   "metadata": {},
   "outputs": [
    {
     "data": {
      "text/plain": [
       "array([1, 2, 3, 4])"
      ]
     },
     "execution_count": 3,
     "metadata": {},
     "output_type": "execute_result"
    }
   ],
   "source": [
    "x"
   ]
  },
  {
   "cell_type": "code",
   "execution_count": 4,
   "id": "5dcb52b1",
   "metadata": {},
   "outputs": [
    {
     "data": {
      "text/plain": [
       "numpy.ndarray"
      ]
     },
     "execution_count": 4,
     "metadata": {},
     "output_type": "execute_result"
    }
   ],
   "source": [
    "type(x)"
   ]
  },
  {
   "cell_type": "code",
   "execution_count": 5,
   "id": "8f0eba5c",
   "metadata": {},
   "outputs": [],
   "source": [
    "y = np.array([\"a\", \"b\", \"c\", \"d\"])"
   ]
  },
  {
   "cell_type": "code",
   "execution_count": 6,
   "id": "4bae4475",
   "metadata": {},
   "outputs": [
    {
     "data": {
      "text/plain": [
       "array(['a', 'b', 'c', 'd'], dtype='<U1')"
      ]
     },
     "execution_count": 6,
     "metadata": {},
     "output_type": "execute_result"
    }
   ],
   "source": [
    "y"
   ]
  },
  {
   "cell_type": "code",
   "execution_count": 7,
   "id": "e1b47c4d",
   "metadata": {},
   "outputs": [
    {
     "data": {
      "text/plain": [
       "numpy.ndarray"
      ]
     },
     "execution_count": 7,
     "metadata": {},
     "output_type": "execute_result"
    }
   ],
   "source": [
    "type(y)"
   ]
  },
  {
   "cell_type": "code",
   "execution_count": 18,
   "id": "3b73f906",
   "metadata": {},
   "outputs": [],
   "source": [
    "# all values are stored as string\n",
    "z = np.array([1, 2, 3, \"a\"])"
   ]
  },
  {
   "cell_type": "code",
   "execution_count": 10,
   "id": "3a60bfba",
   "metadata": {},
   "outputs": [
    {
     "data": {
      "text/plain": [
       "array(['1', '2', '3', 'a'], dtype='<U11')"
      ]
     },
     "execution_count": 10,
     "metadata": {},
     "output_type": "execute_result"
    }
   ],
   "source": [
    "z"
   ]
  },
  {
   "cell_type": "code",
   "execution_count": 11,
   "id": "13f93121",
   "metadata": {},
   "outputs": [],
   "source": [
    "# all values are stored as string\n",
    "a = np.array([1, 2, 3, \"5\"])"
   ]
  },
  {
   "cell_type": "code",
   "execution_count": 12,
   "id": "167c856d",
   "metadata": {},
   "outputs": [
    {
     "data": {
      "text/plain": [
       "array(['1', '2', '3', '5'], dtype='<U11')"
      ]
     },
     "execution_count": 12,
     "metadata": {},
     "output_type": "execute_result"
    }
   ],
   "source": [
    "a"
   ]
  },
  {
   "cell_type": "code",
   "execution_count": 19,
   "id": "3376fb88",
   "metadata": {},
   "outputs": [],
   "source": [
    "# all values ​​are stored as float\n",
    "b = np.array([1, 2, 3, 4.5])"
   ]
  },
  {
   "cell_type": "code",
   "execution_count": 20,
   "id": "8fb2aaaf",
   "metadata": {},
   "outputs": [
    {
     "data": {
      "text/plain": [
       "array([1. , 2. , 3. , 4.5])"
      ]
     },
     "execution_count": 20,
     "metadata": {},
     "output_type": "execute_result"
    }
   ],
   "source": [
    "b"
   ]
  },
  {
   "cell_type": "code",
   "execution_count": 21,
   "id": "42c02309",
   "metadata": {},
   "outputs": [],
   "source": [
    "# all values are stored as string\n",
    "c = np.array([1, 2, 3, 4.5, \"5\"])"
   ]
  },
  {
   "cell_type": "code",
   "execution_count": 16,
   "id": "6da9ba75",
   "metadata": {},
   "outputs": [
    {
     "data": {
      "text/plain": [
       "array(['1', '2', '3', '4.5', '5'], dtype='<U32')"
      ]
     },
     "execution_count": 16,
     "metadata": {},
     "output_type": "execute_result"
    }
   ],
   "source": [
    "c"
   ]
  }
 ],
 "metadata": {
  "kernelspec": {
   "display_name": "Python 3 (ipykernel)",
   "language": "python",
   "name": "python3"
  },
  "language_info": {
   "codemirror_mode": {
    "name": "ipython",
    "version": 3
   },
   "file_extension": ".py",
   "mimetype": "text/x-python",
   "name": "python",
   "nbconvert_exporter": "python",
   "pygments_lexer": "ipython3",
   "version": "3.9.12"
  }
 },
 "nbformat": 4,
 "nbformat_minor": 5
}
