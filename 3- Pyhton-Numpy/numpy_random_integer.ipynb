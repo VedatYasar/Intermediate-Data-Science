{
 "cells": [
  {
   "cell_type": "code",
   "execution_count": 1,
   "id": "01fc44ff",
   "metadata": {},
   "outputs": [],
   "source": [
    "import numpy as np"
   ]
  },
  {
   "cell_type": "markdown",
   "id": "dfb4216f",
   "metadata": {},
   "source": [
    "# Creating an Array of Random Integers\n",
    "\n",
    "* [low,high)"
   ]
  },
  {
   "cell_type": "code",
   "execution_count": 5,
   "id": "5622eda0",
   "metadata": {},
   "outputs": [
    {
     "data": {
      "text/plain": [
       "array([[3, 5, 3, 7],\n",
       "       [6, 1, 2, 9],\n",
       "       [5, 2, 2, 7]])"
      ]
     },
     "execution_count": 5,
     "metadata": {},
     "output_type": "execute_result"
    }
   ],
   "source": [
    "np.random.randint(1,10, (3,4))"
   ]
  },
  {
   "cell_type": "code",
   "execution_count": 6,
   "id": "5ae34797",
   "metadata": {},
   "outputs": [
    {
     "data": {
      "text/plain": [
       "array([[[3, 3, 6, 9, 4],\n",
       "        [6, 1, 6, 6, 1],\n",
       "        [5, 5, 9, 8, 2],\n",
       "        [5, 2, 9, 1, 8],\n",
       "        [2, 7, 7, 3, 4]],\n",
       "\n",
       "       [[6, 8, 3, 6, 9],\n",
       "        [5, 8, 1, 8, 6],\n",
       "        [4, 8, 5, 7, 1],\n",
       "        [5, 7, 4, 9, 4],\n",
       "        [4, 1, 1, 1, 5]],\n",
       "\n",
       "       [[3, 9, 8, 2, 2],\n",
       "        [2, 1, 2, 4, 7],\n",
       "        [3, 5, 1, 9, 5],\n",
       "        [3, 4, 8, 6, 8],\n",
       "        [8, 4, 6, 8, 2]]])"
      ]
     },
     "execution_count": 6,
     "metadata": {},
     "output_type": "execute_result"
    }
   ],
   "source": [
    "np.random.randint(1, 10, (3,5,5))"
   ]
  },
  {
   "cell_type": "code",
   "execution_count": 4,
   "id": "5340a22d",
   "metadata": {},
   "outputs": [
    {
     "data": {
      "text/plain": [
       "1"
      ]
     },
     "execution_count": 4,
     "metadata": {},
     "output_type": "execute_result"
    }
   ],
   "source": [
    "np.random.randint(1, 2)"
   ]
  },
  {
   "cell_type": "code",
   "execution_count": 13,
   "id": "e36b855a",
   "metadata": {},
   "outputs": [],
   "source": [
    "d = {}\n",
    "\n",
    "for _ in range(20000):\n",
    "    val = np.random.randint(1,11)\n",
    "    \n",
    "    if val not in d:\n",
    "        d[val] = 1\n",
    "    else:\n",
    "        d[val] += 1"
   ]
  },
  {
   "cell_type": "code",
   "execution_count": 14,
   "id": "138204cb",
   "metadata": {},
   "outputs": [
    {
     "data": {
      "text/plain": [
       "{9: 1927,\n",
       " 4: 2013,\n",
       " 2: 1952,\n",
       " 5: 1977,\n",
       " 8: 2104,\n",
       " 1: 1928,\n",
       " 6: 2045,\n",
       " 7: 2053,\n",
       " 10: 2065,\n",
       " 3: 1936}"
      ]
     },
     "execution_count": 14,
     "metadata": {},
     "output_type": "execute_result"
    }
   ],
   "source": [
    "d"
   ]
  }
 ],
 "metadata": {
  "kernelspec": {
   "display_name": "Python 3 (ipykernel)",
   "language": "python",
   "name": "python3"
  },
  "language_info": {
   "codemirror_mode": {
    "name": "ipython",
    "version": 3
   },
   "file_extension": ".py",
   "mimetype": "text/x-python",
   "name": "python",
   "nbconvert_exporter": "python",
   "pygments_lexer": "ipython3",
   "version": "3.9.12"
  }
 },
 "nbformat": 4,
 "nbformat_minor": 5
}
