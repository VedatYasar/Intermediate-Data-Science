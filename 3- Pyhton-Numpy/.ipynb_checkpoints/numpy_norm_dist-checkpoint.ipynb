{
 "cells": [
  {
   "cell_type": "code",
   "execution_count": 1,
   "id": "db3258f7",
   "metadata": {},
   "outputs": [],
   "source": [
    "import numpy as np"
   ]
  },
  {
   "cell_type": "markdown",
   "id": "233fc354",
   "metadata": {},
   "source": [
    "# Sampling from Normal Distribution\n",
    "\n",
    "* (mean, std, array size)"
   ]
  },
  {
   "cell_type": "code",
   "execution_count": 5,
   "id": "4c4cb293",
   "metadata": {},
   "outputs": [
    {
     "data": {
      "text/plain": [
       "array([[-0.30164578, -1.65229034,  0.98177577, -1.59867759,  1.08288199],\n",
       "       [ 1.78131626, -2.07709589,  1.69881997, -1.10437226, -0.16228205],\n",
       "       [ 1.05055343,  0.82840963,  0.28347313,  0.46679623,  1.97484353],\n",
       "       [ 0.67903615,  0.37918677,  1.12555224,  0.89796185, -1.45013783]])"
      ]
     },
     "execution_count": 5,
     "metadata": {},
     "output_type": "execute_result"
    }
   ],
   "source": [
    "np.random.normal(0, 1, (4,5))"
   ]
  },
  {
   "cell_type": "code",
   "execution_count": 6,
   "id": "5a7f2b21",
   "metadata": {},
   "outputs": [
    {
     "data": {
      "text/plain": [
       "array([[ -81.5904554 ,    7.84538363,  232.28504085, -104.1743602 ,\n",
       "         -16.03294074],\n",
       "       [-175.64042207,  -33.38198863,   32.57754582,  -93.35614824,\n",
       "         -70.39514009],\n",
       "       [ -68.03021544,  -86.01796873,   25.04854125, -231.21477818,\n",
       "           6.62921978],\n",
       "       [ -12.91197233,   23.44702733, -117.68483655,  -39.16634952,\n",
       "         -10.39554664]])"
      ]
     },
     "execution_count": 6,
     "metadata": {},
     "output_type": "execute_result"
    }
   ],
   "source": [
    "np.random.normal(0, 100, (4,5))"
   ]
  },
  {
   "cell_type": "code",
   "execution_count": 14,
   "id": "6cac09f9",
   "metadata": {},
   "outputs": [
    {
     "data": {
      "text/plain": [
       "array([[31.72972357, 25.57004469, 47.47262961, 17.26705909, 29.07583295],\n",
       "       [19.30334094, 25.81418167, 26.24823867, 51.47973578, 27.18571266],\n",
       "       [29.70005929, 16.9110698 , 24.83282996, 34.15514333, 34.69940542],\n",
       "       [11.52006912, 22.84882924, 46.73248424, 24.52753314, 41.55090786]])"
      ]
     },
     "execution_count": 14,
     "metadata": {},
     "output_type": "execute_result"
    }
   ],
   "source": [
    "np.random.normal(30, 10, (4,5))"
   ]
  },
  {
   "cell_type": "code",
   "execution_count": 17,
   "id": "48bb5c49",
   "metadata": {},
   "outputs": [
    {
     "data": {
      "text/plain": [
       "array([[ -9.46259319,  10.27115961,  -4.07017792,  -0.86192085,\n",
       "          1.08492034],\n",
       "       [-16.94716686,  12.38396947,  -0.52843985, -14.43470759,\n",
       "          5.32351129],\n",
       "       [-13.42252416,  -4.19081797, -10.57583505,   2.9275046 ,\n",
       "         -1.08517458],\n",
       "       [  6.920835  ,  -2.09447614,  -0.92098907,  -5.64375276,\n",
       "          3.96472993]])"
      ]
     },
     "execution_count": 17,
     "metadata": {},
     "output_type": "execute_result"
    }
   ],
   "source": [
    "np.random.normal(0, 10, (4,5))"
   ]
  },
  {
   "cell_type": "code",
   "execution_count": 18,
   "id": "8ec4e1c3",
   "metadata": {},
   "outputs": [
    {
     "data": {
      "text/plain": [
       "array([[6.41926063, 3.77029017, 3.97631855, 6.36253618, 5.52885862],\n",
       "       [5.47702299, 5.12314373, 5.98662846, 3.98116024, 6.63041137],\n",
       "       [5.44502387, 5.23457293, 5.09298558, 5.38814877, 3.51391273],\n",
       "       [6.1539016 , 4.32419422, 4.02789307, 4.44980735, 5.50511421]])"
      ]
     },
     "execution_count": 18,
     "metadata": {},
     "output_type": "execute_result"
    }
   ],
   "source": [
    "np.random.normal(5, 1, (4,5))"
   ]
  }
 ],
 "metadata": {
  "kernelspec": {
   "display_name": "Python 3 (ipykernel)",
   "language": "python",
   "name": "python3"
  },
  "language_info": {
   "codemirror_mode": {
    "name": "ipython",
    "version": 3
   },
   "file_extension": ".py",
   "mimetype": "text/x-python",
   "name": "python",
   "nbconvert_exporter": "python",
   "pygments_lexer": "ipython3",
   "version": "3.9.12"
  }
 },
 "nbformat": 4,
 "nbformat_minor": 5
}
