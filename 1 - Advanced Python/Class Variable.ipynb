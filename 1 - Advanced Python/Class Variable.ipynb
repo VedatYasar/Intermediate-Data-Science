{
 "cells": [
  {
   "cell_type": "markdown",
   "id": "503659a4",
   "metadata": {},
   "source": [
    "# Class Variable"
   ]
  },
  {
   "cell_type": "code",
   "execution_count": 4,
   "id": "e274b8b0",
   "metadata": {},
   "outputs": [],
   "source": [
    "class Employee:\n",
    "    \n",
    "    raise_percent = 1.05\n",
    "    \n",
    "    def __init__(self, name, last, age, pay):\n",
    "        self.name = name\n",
    "        self.last = last\n",
    "        self.age = age\n",
    "        self.pay = pay\n",
    "        \n",
    "    def apply_raise(self):\n",
    "        self.pay = self.pay * Employee.raise_percent"
   ]
  },
  {
   "cell_type": "markdown",
   "id": "8b4539f1",
   "metadata": {},
   "source": [
    "**Instance Variables** : Variables unique to objects created in a class\n",
    "\n",
    "**Class Variables** : Shared variables on all objects created in the class"
   ]
  },
  {
   "cell_type": "code",
   "execution_count": 11,
   "id": "cd90ffa1",
   "metadata": {},
   "outputs": [],
   "source": [
    "emp_1 = Employee(\"James\", \"Hughes\", 32, 5000)"
   ]
  },
  {
   "cell_type": "code",
   "execution_count": 12,
   "id": "0b45d09f",
   "metadata": {},
   "outputs": [],
   "source": [
    "emp_2 = Employee(\"Charlie\", \"Brown\", 22, 3000)"
   ]
  },
  {
   "cell_type": "code",
   "execution_count": 13,
   "id": "4f992132",
   "metadata": {},
   "outputs": [],
   "source": [
    "emp_1.apply_raise()"
   ]
  },
  {
   "cell_type": "code",
   "execution_count": 14,
   "id": "88c7e545",
   "metadata": {},
   "outputs": [
    {
     "data": {
      "text/plain": [
       "5250.0"
      ]
     },
     "execution_count": 14,
     "metadata": {},
     "output_type": "execute_result"
    }
   ],
   "source": [
    "emp_1.pay"
   ]
  },
  {
   "cell_type": "code",
   "execution_count": 16,
   "id": "84aacc1d",
   "metadata": {},
   "outputs": [],
   "source": [
    "emp_2.apply_raise()"
   ]
  },
  {
   "cell_type": "code",
   "execution_count": 17,
   "id": "78eae674",
   "metadata": {},
   "outputs": [
    {
     "data": {
      "text/plain": [
       "3150.0"
      ]
     },
     "execution_count": 17,
     "metadata": {},
     "output_type": "execute_result"
    }
   ],
   "source": [
    "emp_2.pay"
   ]
  },
  {
   "cell_type": "markdown",
   "id": "2c05dab7",
   "metadata": {},
   "source": [
    "emp_1.raise_percent ->  First, it looks for instance, if it can't find it, it checks if it exists as a class variable."
   ]
  },
  {
   "cell_type": "code",
   "execution_count": 18,
   "id": "34f5f55c",
   "metadata": {},
   "outputs": [
    {
     "name": "stdout",
     "output_type": "stream",
     "text": [
      "{'name': 'James', 'last': 'Hughes', 'age': 32, 'pay': 5250.0}\n"
     ]
    }
   ],
   "source": [
    "print(emp_1.__dict__)"
   ]
  },
  {
   "cell_type": "code",
   "execution_count": 19,
   "id": "88814128",
   "metadata": {},
   "outputs": [
    {
     "name": "stdout",
     "output_type": "stream",
     "text": [
      "{'__module__': '__main__', 'raise_percent': 1.05, '__init__': <function Employee.__init__ at 0x0000027EA54341F0>, 'apply_raise': <function Employee.apply_raise at 0x0000027EA5434430>, '__dict__': <attribute '__dict__' of 'Employee' objects>, '__weakref__': <attribute '__weakref__' of 'Employee' objects>, '__doc__': None}\n"
     ]
    }
   ],
   "source": [
    "print(Employee.__dict__)"
   ]
  },
  {
   "cell_type": "code",
   "execution_count": 20,
   "id": "8a8df48f",
   "metadata": {},
   "outputs": [
    {
     "name": "stdout",
     "output_type": "stream",
     "text": [
      "1.05\n",
      "1.05\n",
      "1.05\n"
     ]
    }
   ],
   "source": [
    "print(Employee.raise_percent)\n",
    "print(emp_1.raise_percent)\n",
    "print(emp_2.raise_percent)"
   ]
  },
  {
   "cell_type": "code",
   "execution_count": 21,
   "id": "a888099d",
   "metadata": {},
   "outputs": [],
   "source": [
    "Employee.raise_percent = 1.06"
   ]
  },
  {
   "cell_type": "code",
   "execution_count": 22,
   "id": "be3ce2d4",
   "metadata": {},
   "outputs": [
    {
     "name": "stdout",
     "output_type": "stream",
     "text": [
      "1.06\n",
      "1.06\n",
      "1.06\n"
     ]
    }
   ],
   "source": [
    "print(Employee.raise_percent)\n",
    "print(emp_1.raise_percent)\n",
    "print(emp_2.raise_percent)"
   ]
  },
  {
   "cell_type": "code",
   "execution_count": 23,
   "id": "065dfdeb",
   "metadata": {},
   "outputs": [],
   "source": [
    "emp_2.raise_percent = 1.10"
   ]
  },
  {
   "cell_type": "code",
   "execution_count": 24,
   "id": "795d88bf",
   "metadata": {},
   "outputs": [
    {
     "name": "stdout",
     "output_type": "stream",
     "text": [
      "{'name': 'Charlie', 'last': 'Brown', 'age': 22, 'pay': 3150.0, 'raise_percent': 1.1}\n"
     ]
    }
   ],
   "source": [
    "print(emp_2.__dict__)"
   ]
  },
  {
   "cell_type": "code",
   "execution_count": 25,
   "id": "fe1952a3",
   "metadata": {
    "scrolled": true
   },
   "outputs": [
    {
     "name": "stdout",
     "output_type": "stream",
     "text": [
      "1.06\n",
      "1.06\n",
      "1.1\n"
     ]
    }
   ],
   "source": [
    "print(Employee.raise_percent)\n",
    "print(emp_1.raise_percent)\n",
    "print(emp_2.raise_percent)"
   ]
  },
  {
   "cell_type": "markdown",
   "id": "c25dcf82",
   "metadata": {},
   "source": [
    " * Updating the class variable via the class updates it for each object, but updating it via instance only updates it for that object.\n",
    " \n",
    " \n",
    " * Normally, since there is no such attribute for that object, it would look in the class dictionary, but it created such an attribute for itself."
   ]
  }
 ],
 "metadata": {
  "kernelspec": {
   "display_name": "Python 3 (ipykernel)",
   "language": "python",
   "name": "python3"
  },
  "language_info": {
   "codemirror_mode": {
    "name": "ipython",
    "version": 3
   },
   "file_extension": ".py",
   "mimetype": "text/x-python",
   "name": "python",
   "nbconvert_exporter": "python",
   "pygments_lexer": "ipython3",
   "version": "3.9.12"
  }
 },
 "nbformat": 4,
 "nbformat_minor": 5
}
