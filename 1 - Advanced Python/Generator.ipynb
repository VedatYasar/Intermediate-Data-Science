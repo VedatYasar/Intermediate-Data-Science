{
 "cells": [
  {
   "cell_type": "markdown",
   "id": "a61a7012",
   "metadata": {},
   "source": [
    "# Generators\n",
    "\n",
    "Let's say we want to square the elements of a list"
   ]
  },
  {
   "cell_type": "code",
   "execution_count": 1,
   "id": "cba6d1da",
   "metadata": {},
   "outputs": [],
   "source": [
    "def square(l):\n",
    "    res = []\n",
    "    \n",
    "    for e in l:\n",
    "        res.append (e*e)\n",
    "    return res"
   ]
  },
  {
   "cell_type": "code",
   "execution_count": 2,
   "id": "76a68c8b",
   "metadata": {},
   "outputs": [
    {
     "data": {
      "text/plain": [
       "[1, 4, 9]"
      ]
     },
     "execution_count": 2,
     "metadata": {},
     "output_type": "execute_result"
    }
   ],
   "source": [
    "l = [1, 2, 3]\n",
    "square(l)"
   ]
  },
  {
   "cell_type": "markdown",
   "id": "bd7dbe4d",
   "metadata": {},
   "source": [
    "If we want to give these results as we ask, not all at once.\n",
    "We can do this with the **generator**."
   ]
  },
  {
   "cell_type": "code",
   "execution_count": 3,
   "id": "2584cddb",
   "metadata": {},
   "outputs": [],
   "source": [
    "def square_generator(l):\n",
    "    for e in l:\n",
    "        yield e*e"
   ]
  },
  {
   "cell_type": "code",
   "execution_count": 4,
   "id": "3a36e030",
   "metadata": {},
   "outputs": [],
   "source": [
    "l = [1, 2, 3]\n",
    "g = square_generator(l)"
   ]
  },
  {
   "cell_type": "code",
   "execution_count": 5,
   "id": "e5cd5427",
   "metadata": {},
   "outputs": [
    {
     "data": {
      "text/plain": [
       "<generator object square_generator at 0x000001DF091059E0>"
      ]
     },
     "execution_count": 5,
     "metadata": {},
     "output_type": "execute_result"
    }
   ],
   "source": [
    "g"
   ]
  },
  {
   "cell_type": "markdown",
   "id": "c00826c2",
   "metadata": {},
   "source": [
    "Generators do not store all the answers in memory. They take it out when we ask.\n",
    "\n",
    "Generators are iterators. We can access the next value with **next()**."
   ]
  },
  {
   "cell_type": "code",
   "execution_count": 6,
   "id": "da0202ab",
   "metadata": {},
   "outputs": [
    {
     "data": {
      "text/plain": [
       "1"
      ]
     },
     "execution_count": 6,
     "metadata": {},
     "output_type": "execute_result"
    }
   ],
   "source": [
    "next(g)"
   ]
  },
  {
   "cell_type": "code",
   "execution_count": 7,
   "id": "7fec1f72",
   "metadata": {},
   "outputs": [
    {
     "data": {
      "text/plain": [
       "4"
      ]
     },
     "execution_count": 7,
     "metadata": {},
     "output_type": "execute_result"
    }
   ],
   "source": [
    "next(g)"
   ]
  },
  {
   "cell_type": "code",
   "execution_count": 8,
   "id": "4dee5d78",
   "metadata": {},
   "outputs": [
    {
     "data": {
      "text/plain": [
       "9"
      ]
     },
     "execution_count": 8,
     "metadata": {},
     "output_type": "execute_result"
    }
   ],
   "source": [
    "next(g)"
   ]
  },
  {
   "cell_type": "code",
   "execution_count": 9,
   "id": "5aac789f",
   "metadata": {
    "collapsed": true
   },
   "outputs": [
    {
     "ename": "StopIteration",
     "evalue": "",
     "output_type": "error",
     "traceback": [
      "\u001b[1;31m---------------------------------------------------------------------------\u001b[0m",
      "\u001b[1;31mStopIteration\u001b[0m                             Traceback (most recent call last)",
      "Input \u001b[1;32mIn [9]\u001b[0m, in \u001b[0;36m<cell line: 1>\u001b[1;34m()\u001b[0m\n\u001b[1;32m----> 1\u001b[0m \u001b[38;5;28;43mnext\u001b[39;49m\u001b[43m(\u001b[49m\u001b[43mg\u001b[49m\u001b[43m)\u001b[49m\n",
      "\u001b[1;31mStopIteration\u001b[0m: "
     ]
    }
   ],
   "source": [
    "next(g)"
   ]
  },
  {
   "cell_type": "code",
   "execution_count": 10,
   "id": "b4a18cb8",
   "metadata": {},
   "outputs": [],
   "source": [
    "# exhausted. If we want to start over again, we have to create from scratch.\n",
    "for res in g:\n",
    "    print(res)"
   ]
  },
  {
   "cell_type": "code",
   "execution_count": 11,
   "id": "e4bbdf89",
   "metadata": {},
   "outputs": [],
   "source": [
    "g = square_generator(l)"
   ]
  },
  {
   "cell_type": "code",
   "execution_count": 12,
   "id": "64a437c5",
   "metadata": {},
   "outputs": [
    {
     "name": "stdout",
     "output_type": "stream",
     "text": [
      "1\n",
      "4\n",
      "9\n"
     ]
    }
   ],
   "source": [
    "for res in g:\n",
    "    print(res)"
   ]
  },
  {
   "cell_type": "markdown",
   "id": "f3a27cda",
   "metadata": {},
   "source": [
    "## Creating Generator like List Comprehension"
   ]
  },
  {
   "cell_type": "code",
   "execution_count": 13,
   "id": "60510a97",
   "metadata": {},
   "outputs": [],
   "source": [
    "l = [x*x for x in [1,2,3,4,5]]"
   ]
  },
  {
   "cell_type": "code",
   "execution_count": 14,
   "id": "c7cc7288",
   "metadata": {},
   "outputs": [
    {
     "data": {
      "text/plain": [
       "[1, 4, 9, 16, 25]"
      ]
     },
     "execution_count": 14,
     "metadata": {},
     "output_type": "execute_result"
    }
   ],
   "source": [
    "l"
   ]
  },
  {
   "cell_type": "code",
   "execution_count": 28,
   "id": "6e7d7f43",
   "metadata": {},
   "outputs": [],
   "source": [
    "g = (x*x for x in [1,2,3,4,5])"
   ]
  },
  {
   "cell_type": "code",
   "execution_count": 29,
   "id": "9f4b82c9",
   "metadata": {},
   "outputs": [
    {
     "data": {
      "text/plain": [
       "<generator object <genexpr> at 0x000001DF09AEB7B0>"
      ]
     },
     "execution_count": 29,
     "metadata": {},
     "output_type": "execute_result"
    }
   ],
   "source": [
    "g"
   ]
  },
  {
   "cell_type": "code",
   "execution_count": 30,
   "id": "865949fe",
   "metadata": {},
   "outputs": [
    {
     "data": {
      "text/plain": [
       "1"
      ]
     },
     "execution_count": 30,
     "metadata": {},
     "output_type": "execute_result"
    }
   ],
   "source": [
    "next(g)"
   ]
  },
  {
   "cell_type": "code",
   "execution_count": 32,
   "id": "0891b140",
   "metadata": {},
   "outputs": [],
   "source": [
    "# It starts from 2 because we run it once. need to recreate to start from 1\n",
    "for res in g:\n",
    "    print(res)"
   ]
  },
  {
   "cell_type": "markdown",
   "id": "4ee362fb",
   "metadata": {},
   "source": [
    "### Converting Generator to List"
   ]
  },
  {
   "cell_type": "code",
   "execution_count": 33,
   "id": "5bcd582a",
   "metadata": {},
   "outputs": [],
   "source": [
    "g = (x*x for x in [1,2,3,4,5])"
   ]
  },
  {
   "cell_type": "code",
   "execution_count": 34,
   "id": "cdc173d8",
   "metadata": {},
   "outputs": [
    {
     "data": {
      "text/plain": [
       "[1, 4, 9, 16, 25]"
      ]
     },
     "execution_count": 34,
     "metadata": {},
     "output_type": "execute_result"
    }
   ],
   "source": [
    "list(g)"
   ]
  },
  {
   "cell_type": "code",
   "execution_count": 35,
   "id": "c7fa17fc",
   "metadata": {},
   "outputs": [],
   "source": [
    "l = [1, 2, 3, 4, 5, 6]"
   ]
  },
  {
   "cell_type": "code",
   "execution_count": 36,
   "id": "5b462d31",
   "metadata": {},
   "outputs": [],
   "source": [
    "g = square_generator(l)"
   ]
  },
  {
   "cell_type": "code",
   "execution_count": 37,
   "id": "2de04f19",
   "metadata": {},
   "outputs": [
    {
     "data": {
      "text/plain": [
       "[1, 4, 9, 16, 25, 36]"
      ]
     },
     "execution_count": 37,
     "metadata": {},
     "output_type": "execute_result"
    }
   ],
   "source": [
    "list(g)"
   ]
  },
  {
   "cell_type": "markdown",
   "id": "905d7462",
   "metadata": {},
   "source": [
    "## Generators\n",
    "\n",
    "* Allows us to quickly create a iterator.\n",
    "\n",
    "* We may not notice the difference if what we're dealing with is a small number of elements, but in large scale data keeping all values in memory can takes a lot of space. **Generator**s' returning values when requested, which can be good for memory problems.\n",
    "\n",
    "* When we do __list(generator)__ it loses this feature."
   ]
  },
  {
   "cell_type": "markdown",
   "id": "4988ec32",
   "metadata": {},
   "source": [
    "### Generator Exercise"
   ]
  },
  {
   "cell_type": "code",
   "execution_count": 54,
   "id": "1f6ec238",
   "metadata": {},
   "outputs": [],
   "source": [
    "# Creating a function like as range()\n",
    "def range_generator(start,end,step):\n",
    "    current = start\n",
    "    \n",
    "    while current < end:\n",
    "        yield current\n",
    "        current += step"
   ]
  },
  {
   "cell_type": "code",
   "execution_count": 55,
   "id": "9efee2e7",
   "metadata": {},
   "outputs": [
    {
     "data": {
      "text/plain": [
       "1"
      ]
     },
     "execution_count": 55,
     "metadata": {},
     "output_type": "execute_result"
    }
   ],
   "source": [
    "r = range_generator(1, 20, 3)\n",
    "next(r)"
   ]
  },
  {
   "cell_type": "code",
   "execution_count": 56,
   "id": "805ec2fc",
   "metadata": {},
   "outputs": [
    {
     "name": "stdout",
     "output_type": "stream",
     "text": [
      "4\n",
      "7\n",
      "10\n",
      "13\n",
      "16\n",
      "19\n"
     ]
    }
   ],
   "source": [
    "for res in r:\n",
    "    print(res)"
   ]
  }
 ],
 "metadata": {
  "kernelspec": {
   "display_name": "Python 3 (ipykernel)",
   "language": "python",
   "name": "python3"
  },
  "language_info": {
   "codemirror_mode": {
    "name": "ipython",
    "version": 3
   },
   "file_extension": ".py",
   "mimetype": "text/x-python",
   "name": "python",
   "nbconvert_exporter": "python",
   "pygments_lexer": "ipython3",
   "version": "3.9.12"
  }
 },
 "nbformat": 4,
 "nbformat_minor": 5
}
