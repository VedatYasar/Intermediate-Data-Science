{
 "cells": [
  {
   "cell_type": "markdown",
   "id": "f3bff36c",
   "metadata": {},
   "source": [
    "# Class Method"
   ]
  },
  {
   "cell_type": "markdown",
   "id": "14c06eb2",
   "metadata": {},
   "source": [
    "*  **@classmethod** updates the decorator method so that the first argument is class instead of instance."
   ]
  },
  {
   "cell_type": "code",
   "execution_count": 1,
   "id": "058d4f99",
   "metadata": {},
   "outputs": [],
   "source": [
    "class Employee:\n",
    "    \n",
    "    raise_percent = 1.05\n",
    "    \n",
    "    def __init__(self, name, last, age, pay):\n",
    "        self.name = name\n",
    "        self.last = last\n",
    "        self.age = age\n",
    "        self.pay = pay\n",
    "        \n",
    "    def apply_raise(self):\n",
    "        self.pay = self.pay * Employee.raise_percent\n",
    "        \n",
    "    @classmethod\n",
    "    def set_raise(cls, amount):\n",
    "        cls.raise_percent = amount"
   ]
  },
  {
   "cell_type": "code",
   "execution_count": 2,
   "id": "8f4a0fb4",
   "metadata": {},
   "outputs": [],
   "source": [
    "emp_1 = Employee(\"James\", \"Hughes\", 32, 5000)"
   ]
  },
  {
   "cell_type": "code",
   "execution_count": 3,
   "id": "343d6064",
   "metadata": {},
   "outputs": [],
   "source": [
    "emp_2 = Employee(\"Charlie\", \"Brown\", 22, 3000)"
   ]
  },
  {
   "cell_type": "code",
   "execution_count": 5,
   "id": "7868fb52",
   "metadata": {},
   "outputs": [],
   "source": [
    "Employee.set_raise(1.6)"
   ]
  },
  {
   "cell_type": "code",
   "execution_count": 6,
   "id": "f964d079",
   "metadata": {},
   "outputs": [],
   "source": [
    "emp_1.set_raise(2.3)"
   ]
  },
  {
   "cell_type": "code",
   "execution_count": 7,
   "id": "fd0cd7e1",
   "metadata": {},
   "outputs": [
    {
     "name": "stdout",
     "output_type": "stream",
     "text": [
      "2.3\n",
      "2.3\n",
      "2.3\n"
     ]
    }
   ],
   "source": [
    "print(Employee.raise_percent)\n",
    "print(emp_1.raise_percent)\n",
    "print(emp_2.raise_percent)"
   ]
  },
  {
   "cell_type": "markdown",
   "id": "c183e9ac",
   "metadata": {},
   "source": [
    "### Alternative Constructor"
   ]
  },
  {
   "cell_type": "markdown",
   "id": "2f0f90b0",
   "metadata": {},
   "source": [
    "\n",
    "Let's say all the information is given to us as a string, and we are asked to parse it as name, last, age."
   ]
  },
  {
   "cell_type": "code",
   "execution_count": 8,
   "id": "6d0f5f49",
   "metadata": {},
   "outputs": [],
   "source": [
    "emp_1_str = \"James-Hughes-32-5000\""
   ]
  },
  {
   "cell_type": "code",
   "execution_count": 9,
   "id": "6d9f4118",
   "metadata": {},
   "outputs": [],
   "source": [
    "emp_2_str = \"Charlie-Brown-22-3000\""
   ]
  },
  {
   "cell_type": "code",
   "execution_count": 10,
   "id": "4ca91f62",
   "metadata": {},
   "outputs": [
    {
     "data": {
      "text/plain": [
       "['James', 'Hughes', '32', '5000']"
      ]
     },
     "execution_count": 10,
     "metadata": {},
     "output_type": "execute_result"
    }
   ],
   "source": [
    "emp_1_str.split(\"-\")"
   ]
  },
  {
   "cell_type": "code",
   "execution_count": 11,
   "id": "a0f3e16b",
   "metadata": {},
   "outputs": [],
   "source": [
    "name, last, age, pay = emp_1_str.split(\"-\")"
   ]
  },
  {
   "cell_type": "code",
   "execution_count": 12,
   "id": "16925bc4",
   "metadata": {},
   "outputs": [],
   "source": [
    "emp_1 = Employee(name, last, age, pay)"
   ]
  },
  {
   "cell_type": "markdown",
   "id": "9bd75229",
   "metadata": {},
   "source": [
    "We can write it as a method instead of parsing it ourselves each time."
   ]
  },
  {
   "cell_type": "code",
   "execution_count": 21,
   "id": "67e6d240",
   "metadata": {},
   "outputs": [],
   "source": [
    "class Employee:\n",
    "    \n",
    "    raise_percent = 1.05\n",
    "    \n",
    "    def __init__(self, name, last, age, pay):\n",
    "        self.name = name\n",
    "        self.last = last\n",
    "        self.age = age\n",
    "        self.pay = pay\n",
    "        \n",
    "    def apply_raise(self):\n",
    "        self.pay = self.pay * Employee.raise_percent\n",
    "        \n",
    "    @classmethod\n",
    "    def set_raise(cls, amount):\n",
    "        cls.raise_percent = amount\n",
    "    \n",
    "    @classmethod\n",
    "    def from_string(cls, emp_str):\n",
    "        name, last, age, pay = emp_1_str.split(\"-\")\n",
    "        return cls(name, last, int(age), float(pay))     #new employee will be created and return"
   ]
  },
  {
   "cell_type": "code",
   "execution_count": 22,
   "id": "e9408b8c",
   "metadata": {},
   "outputs": [],
   "source": [
    "emp_1_str = \"James-Hughes-32-5000\""
   ]
  },
  {
   "cell_type": "code",
   "execution_count": 23,
   "id": "b645ead9",
   "metadata": {},
   "outputs": [],
   "source": [
    "emp_2_str = \"Charlie-Brown-22-3000\""
   ]
  },
  {
   "cell_type": "code",
   "execution_count": 24,
   "id": "aa6cd109",
   "metadata": {},
   "outputs": [],
   "source": [
    "emp_1 = Employee.from_string(emp_1_str)"
   ]
  },
  {
   "cell_type": "code",
   "execution_count": 25,
   "id": "b096b3c7",
   "metadata": {},
   "outputs": [
    {
     "data": {
      "text/plain": [
       "5000.0"
      ]
     },
     "execution_count": 25,
     "metadata": {},
     "output_type": "execute_result"
    }
   ],
   "source": [
    "emp_1.pay"
   ]
  },
  {
   "cell_type": "markdown",
   "id": "3afb6c5a",
   "metadata": {},
   "source": [
    "### Static Method"
   ]
  },
  {
   "cell_type": "code",
   "execution_count": 27,
   "id": "a3e1fd66",
   "metadata": {},
   "outputs": [],
   "source": [
    "class Employee:\n",
    "    \n",
    "    raise_percent = 1.05\n",
    "    \n",
    "    def __init__(self, name, last, age, pay):\n",
    "        self.name = name\n",
    "        self.last = last\n",
    "        self.age = age\n",
    "        self.pay = pay\n",
    "        \n",
    "    def apply_raise(self):\n",
    "        self.pay = self.pay * Employee.raise_percent\n",
    "        \n",
    "    @classmethod\n",
    "    def set_raise(cls, amount):\n",
    "        cls.raise_percent = amount\n",
    "    \n",
    "    @classmethod\n",
    "    def from_string(cls, emp_str):\n",
    "        name, last, age, pay = emp_1_str.split(\"-\")\n",
    "        return cls(name, last, int(age), float(pay))     #new employee will be created and return\n",
    "    \n",
    "    @staticmethod\n",
    "    def holiday_print(day):\n",
    "        if day == \"weekend\":\n",
    "            print(\"This is an off day\")\n",
    "        else:\n",
    "            print(\"This is NOT an off day\")"
   ]
  },
  {
   "cell_type": "code",
   "execution_count": 30,
   "id": "5bc67bae",
   "metadata": {},
   "outputs": [
    {
     "name": "stdout",
     "output_type": "stream",
     "text": [
      "This is an off day\n"
     ]
    }
   ],
   "source": [
    "Employee.holiday_print(\"weekend\") "
   ]
  },
  {
   "cell_type": "code",
   "execution_count": 31,
   "id": "9d0a4a15",
   "metadata": {},
   "outputs": [],
   "source": [
    "emp_1 = Employee(\"James\", \"Hughes\", 32, 5000)"
   ]
  },
  {
   "cell_type": "code",
   "execution_count": 32,
   "id": "88d6acea",
   "metadata": {},
   "outputs": [
    {
     "name": "stdout",
     "output_type": "stream",
     "text": [
      "This is NOT an off day\n"
     ]
    }
   ],
   "source": [
    "emp_1.holiday_print(\"working day\") "
   ]
  }
 ],
 "metadata": {
  "kernelspec": {
   "display_name": "Python 3 (ipykernel)",
   "language": "python",
   "name": "python3"
  },
  "language_info": {
   "codemirror_mode": {
    "name": "ipython",
    "version": 3
   },
   "file_extension": ".py",
   "mimetype": "text/x-python",
   "name": "python",
   "nbconvert_exporter": "python",
   "pygments_lexer": "ipython3",
   "version": "3.9.12"
  }
 },
 "nbformat": 4,
 "nbformat_minor": 5
}
